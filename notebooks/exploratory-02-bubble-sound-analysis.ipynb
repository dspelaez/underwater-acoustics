{
 "cells": [
  {
   "cell_type": "markdown",
   "id": "a07c9871",
   "metadata": {},
   "source": [
    "# Analysis of the sound produced by underwater bubbles"
   ]
  },
  {
   "cell_type": "markdown",
   "id": "84721fe4",
   "metadata": {},
   "source": [
    "<img src=\"https://biox.stanford.edu/sites/g/files/sbiybj7941/f/ocean_bubbles_banner.png\" alt=\"drawing\" width=\"1000\"/>"
   ]
  },
  {
   "cell_type": "code",
   "execution_count": 10,
   "id": "9540c8e0",
   "metadata": {},
   "outputs": [],
   "source": [
    "import requests\n",
    "import numpy as np\n",
    "import matplotlib.pyplot as plt\n",
    "import scipy.signal as signal\n",
    "from scipy.io import wavfile\n",
    "from io import BytesIO\n",
    "from ipywidgets import Audio\n",
    "\n",
    "plt.rcParams[\"figure.dpi\"] = 120\n",
    "plt.rcParams['pcolor.shading'] = \"auto\""
   ]
  },
  {
   "cell_type": "code",
   "execution_count": 11,
   "id": "b327ed85",
   "metadata": {},
   "outputs": [],
   "source": [
    "fname = \"underwater-bubbles.wav\"\n",
    "#fname = \"whales-dophin-sample.wav\"\n",
    "url = f\"https://github.com/dspelaez/underwater-acoustics/blob/master/sample_sounds/{fname}?raw=true\"\n",
    "#url = \"https://spiddal.marine.ie/data/audio/ICListenRecordings/2021/10/25/icListen_1622_20211025T001755Z.wav\""
   ]
  },
  {
   "cell_type": "code",
   "execution_count": 12,
   "id": "ae034cd8",
   "metadata": {},
   "outputs": [
    {
     "data": {
      "application/vnd.jupyter.widget-view+json": {
       "model_id": "ac3612dfd3c54b50b222bdaab710c4a5",
       "version_major": 2,
       "version_minor": 0
      },
      "text/plain": [
       "Audio(value=b'https://github.com/dspelaez/underwater-acoustics/blob/master/sample_sounds/underwater-bubbles.wa…"
      ]
     },
     "metadata": {},
     "output_type": "display_data"
    }
   ],
   "source": [
    "w = Audio.from_url(url, autoplay=False, loop=False)\n",
    "w"
   ]
  },
  {
   "cell_type": "code",
   "execution_count": 13,
   "id": "6e563480",
   "metadata": {},
   "outputs": [],
   "source": [
    "class SoundFile(object):\n",
    "    \"\"\"Handle wav files\"\"\"\n",
    "\n",
    "    def __init__(self, fname):\n",
    "        \"\"\"Class constructor\"\"\"\n",
    "        self.fname = fname\n",
    "        self._read()\n",
    "    \n",
    "    @classmethod\n",
    "    def from_url(cls, fname):\n",
    "        r = requests.get(fname)\n",
    "        return cls(BytesIO(r.content))\n",
    "    \n",
    "    def _read(self):\n",
    "        \"\"\"Read sound wave file\"\"\"\n",
    "        self.sampling_rate, self.data = wavfile.read(self.fname)\n",
    "        if self.data.ndim > 1:\n",
    "            self.data = self.data[:,0]"
   ]
  },
  {
   "cell_type": "code",
   "execution_count": 14,
   "id": "eeecc09a",
   "metadata": {},
   "outputs": [],
   "source": [
    "sf = SoundFile.from_url(url)\n",
    "target_time = 10.67"
   ]
  },
  {
   "cell_type": "code",
   "execution_count": 15,
   "id": "a7a9d5b4",
   "metadata": {},
   "outputs": [],
   "source": [
    "def plot_spectrogram(self, vmin=-4, vmax=4, cmap=\"magma\", nperseg=1024, ref=1E-6):\n",
    "    \"\"\"Plot spectrogram\"\"\"\n",
    "\n",
    "    if hasattr(self, \"data\"):\n",
    "        # calculate spectrogram\n",
    "        self.frqs, self.time, self.power = signal.spectrogram(\n",
    "            self.data, fs=self.sampling_rate, nperseg=nperseg, noverlap=nperseg/10\n",
    "        )\n",
    "        self.mels = 2595 * np.log10(1 + self.frqs / 500)\n",
    "        self.decibels = 10 * np.ma.log10(self.power / ref)\n",
    "        self.decibels = self.decibels.filled(-60)\n",
    "\n",
    "        # plot figure\n",
    "        fig, (ax1, ax2) = plt.subplots(\n",
    "            2, 1, figsize=(7,4), gridspec_kw={\"height_ratios\": [1,3]}, sharex=True\n",
    "        )\n",
    "        self._t = np.linspace(0, len(self.data), len(self.data)) / self.sampling_rate\n",
    "        ax1.plot(self._t, self.data)\n",
    "        pc = ax2.pcolormesh(\n",
    "            self.time, self.frqs[1:], self.decibels[1:,:], #skip zero\n",
    "            vmin=vmin, vmax=vmax, cmap=cmap, shading=\"auto\"\n",
    "        )\n",
    "        vmax = np.max(np.abs(self.data))\n",
    "        ax1.set_ylim((-vmax, vmax))\n",
    "        ax2.set_ylabel(\"Frequency [Hz]\")\n",
    "        #\n",
    "        cax = ax2.inset_axes([1,0,0.025,1])\n",
    "        cb = fig.colorbar(pc, cax=cax, label=f\"dB re {np.int64(10*np.log10(ref)):d}\")\n",
    "\n",
    "        return fig, ax1, ax2, cb\n",
    "\n",
    "    else:\n",
    "        print(\"No data available\")\n"
   ]
  },
  {
   "cell_type": "code",
   "execution_count": 16,
   "id": "ece01be6",
   "metadata": {},
   "outputs": [],
   "source": [
    "def natural_frequency(a, gamma=1.4, p0=1):\n",
    "    \"\"\"Return natural bubble frequency\"\"\"\n",
    "    return np.sqrt(3 * gamma * p0 / a**2)\n",
    "\n",
    "def shape_frequency(a, n, T=72/1000):\n",
    "    \"\"\"Returns the bubble shape frequency\"\"\"\n",
    "    return np.sqrt((n-1)*(n+1)*(n+2)*(T/a**2))"
   ]
  },
  {
   "cell_type": "code",
   "execution_count": 18,
   "id": "14f6694d",
   "metadata": {},
   "outputs": [
    {
     "ename": "AttributeError",
     "evalue": "'SoundFile' object has no attribute 'frqs'",
     "output_type": "error",
     "traceback": [
      "\u001b[0;31m---------------------------------------------------------------------------\u001b[0m",
      "\u001b[0;31mAttributeError\u001b[0m                            Traceback (most recent call last)",
      "\u001b[0;32m<ipython-input-18-d9f0b4179e51>\u001b[0m in \u001b[0;36m<module>\u001b[0;34m\u001b[0m\n\u001b[1;32m      1\u001b[0m \u001b[0mfig\u001b[0m\u001b[0;34m,\u001b[0m \u001b[0max\u001b[0m \u001b[0;34m=\u001b[0m \u001b[0mplt\u001b[0m\u001b[0;34m.\u001b[0m\u001b[0msubplots\u001b[0m\u001b[0;34m(\u001b[0m\u001b[0;36m1\u001b[0m\u001b[0;34m)\u001b[0m\u001b[0;34m\u001b[0m\u001b[0;34m\u001b[0m\u001b[0m\n\u001b[1;32m      2\u001b[0m \u001b[0;31m#ix = np.argmin(np.abs(sf.time - target_time))\u001b[0m\u001b[0;34m\u001b[0m\u001b[0;34m\u001b[0m\u001b[0;34m\u001b[0m\u001b[0m\n\u001b[0;32m----> 3\u001b[0;31m \u001b[0max\u001b[0m\u001b[0;34m.\u001b[0m\u001b[0msemilogx\u001b[0m\u001b[0;34m(\u001b[0m\u001b[0msf\u001b[0m\u001b[0;34m.\u001b[0m\u001b[0mfrqs\u001b[0m\u001b[0;34m,\u001b[0m \u001b[0msf\u001b[0m\u001b[0;34m.\u001b[0m\u001b[0mdecibels\u001b[0m\u001b[0;34m.\u001b[0m\u001b[0mmean\u001b[0m\u001b[0;34m(\u001b[0m\u001b[0maxis\u001b[0m\u001b[0;34m=\u001b[0m\u001b[0;36m1\u001b[0m\u001b[0;34m)\u001b[0m\u001b[0;34m)\u001b[0m\u001b[0;34m\u001b[0m\u001b[0;34m\u001b[0m\u001b[0m\n\u001b[0m\u001b[1;32m      4\u001b[0m \u001b[0max\u001b[0m\u001b[0;34m.\u001b[0m\u001b[0mset\u001b[0m\u001b[0;34m(\u001b[0m\u001b[0mxlabel\u001b[0m\u001b[0;34m=\u001b[0m\u001b[0;34m\"Frequency [Hz]\"\u001b[0m\u001b[0;34m,\u001b[0m \u001b[0mylabel\u001b[0m\u001b[0;34m=\u001b[0m\u001b[0;34m\"dB\"\u001b[0m\u001b[0;34m)\u001b[0m\u001b[0;34m\u001b[0m\u001b[0;34m\u001b[0m\u001b[0m\n\u001b[1;32m      5\u001b[0m \u001b[0;34m\u001b[0m\u001b[0m\n",
      "\u001b[0;31mAttributeError\u001b[0m: 'SoundFile' object has no attribute 'frqs'"
     ]
    },
    {
     "data": {
      "image/png": "[encoded data removed]",
      "text/plain": [
       "<Figure size 720x480 with 1 Axes>"
      ]
     },
     "metadata": {
      "needs_background": "light"
     },
     "output_type": "display_data"
    }
   ],
   "source": [
    "fig, ax = plt.subplots(1)\n",
    "#ix = np.argmin(np.abs(sf.time - target_time))\n",
    "ax.semilogx(sf.frqs, sf.decibels.mean(axis=1))\n",
    "ax.set(xlabel=\"Frequency [Hz]\", ylabel=\"dB\")\n",
    "\n",
    "ax.axvline(natural_frequency(a=0.001, gamma=1.5, p0=1), color=\"k\")\n",
    "fstar = [47.4, 16.8, 7.94, 7.92, 4.31, 2.60, 1.69]\n",
    "for f in fstar:\n",
    "    ax.axvline(f*1000)\n"
   ]
  },
  {
   "cell_type": "code",
   "execution_count": null,
   "id": "fb333819",
   "metadata": {},
   "outputs": [],
   "source": [
    "sf.power.max()"
   ]
  },
  {
   "cell_type": "code",
   "execution_count": null,
   "id": "42a66797",
   "metadata": {},
   "outputs": [],
   "source": []
  }
 ],
 "metadata": {
  "kernelspec": {
   "display_name": "Python 3",
   "language": "python",
   "name": "python3"
  },
  "language_info": {
   "codemirror_mode": {
    "name": "ipython",
    "version": 3
   },
   "file_extension": ".py",
   "mimetype": "text/x-python",
   "name": "python",
   "nbconvert_exporter": "python",
   "pygments_lexer": "ipython3",
   "version": "3.8.8"
  }
 },
 "nbformat": 4,
 "nbformat_minor": 5
}
